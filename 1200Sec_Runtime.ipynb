{
 "cells": [
  {
   "cell_type": "markdown",
   "metadata": {},
   "source": [
    "# Abstract"
   ]
  },
  {
   "cell_type": "markdown",
   "metadata": {},
   "source": [
    "Hyperparameters have much importance in data science because they directly control the behaviour of the training algorithm and have a significant impact on the performance of the model. Finding out the hyperparameters is a strenuous task.The aim of this project is to make the process easier and determine the important hyperparameters from the dataset.H2O algorithm is used to achieve this.Various models are generated for runtimes 300,500,800,1000,1200"
   ]
  },
  {
   "cell_type": "code",
   "execution_count": 1,
   "metadata": {},
   "outputs": [],
   "source": [
    "%matplotlib inline\n",
    "import pandas as pd\n",
    "import matplotlib.pyplot as plt\n",
    "import numpy as np\n",
    "from scipy import stats\n",
    "import seaborn as sns\n",
    "import random, os, sys\n",
    "from datetime import datetime\n",
    "import time"
   ]
  },
  {
   "cell_type": "code",
   "execution_count": 2,
   "metadata": {},
   "outputs": [],
   "source": [
    "# Loading the data set using pandas\n",
    "df=pd.read_csv(\"indian_liver_patient.csv\", sep=',')"
   ]
  },
  {
   "cell_type": "code",
   "execution_count": 3,
   "metadata": {},
   "outputs": [
    {
     "data": {
      "text/html": [
       "<div>\n",
       "<style scoped>\n",
       "    .dataframe tbody tr th:only-of-type {\n",
       "        vertical-align: middle;\n",
       "    }\n",
       "\n",
       "    .dataframe tbody tr th {\n",
       "        vertical-align: top;\n",
       "    }\n",
       "\n",
       "    .dataframe thead th {\n",
       "        text-align: right;\n",
       "    }\n",
       "</style>\n",
       "<table border=\"1\" class=\"dataframe\">\n",
       "  <thead>\n",
       "    <tr style=\"text-align: right;\">\n",
       "      <th></th>\n",
       "      <th>Age</th>\n",
       "      <th>Gender</th>\n",
       "      <th>Total_Bilirubin</th>\n",
       "      <th>Direct_Bilirubin</th>\n",
       "      <th>Alkaline_Phosphotase</th>\n",
       "      <th>Alamine_Aminotransferase</th>\n",
       "      <th>Aspartate_Aminotransferase</th>\n",
       "      <th>Total_Protiens</th>\n",
       "      <th>Albumin</th>\n",
       "      <th>Albumin_and_Globulin_Ratio</th>\n",
       "      <th>Dataset</th>\n",
       "    </tr>\n",
       "  </thead>\n",
       "  <tbody>\n",
       "    <tr>\n",
       "      <th>0</th>\n",
       "      <td>65</td>\n",
       "      <td>Female</td>\n",
       "      <td>0.7</td>\n",
       "      <td>0.1</td>\n",
       "      <td>187</td>\n",
       "      <td>16</td>\n",
       "      <td>18</td>\n",
       "      <td>6.8</td>\n",
       "      <td>3.3</td>\n",
       "      <td>0.90</td>\n",
       "      <td>1</td>\n",
       "    </tr>\n",
       "    <tr>\n",
       "      <th>1</th>\n",
       "      <td>62</td>\n",
       "      <td>Male</td>\n",
       "      <td>10.9</td>\n",
       "      <td>5.5</td>\n",
       "      <td>699</td>\n",
       "      <td>64</td>\n",
       "      <td>100</td>\n",
       "      <td>7.5</td>\n",
       "      <td>3.2</td>\n",
       "      <td>0.74</td>\n",
       "      <td>1</td>\n",
       "    </tr>\n",
       "    <tr>\n",
       "      <th>2</th>\n",
       "      <td>62</td>\n",
       "      <td>Male</td>\n",
       "      <td>7.3</td>\n",
       "      <td>4.1</td>\n",
       "      <td>490</td>\n",
       "      <td>60</td>\n",
       "      <td>68</td>\n",
       "      <td>7.0</td>\n",
       "      <td>3.3</td>\n",
       "      <td>0.89</td>\n",
       "      <td>1</td>\n",
       "    </tr>\n",
       "    <tr>\n",
       "      <th>3</th>\n",
       "      <td>58</td>\n",
       "      <td>Male</td>\n",
       "      <td>1.0</td>\n",
       "      <td>0.4</td>\n",
       "      <td>182</td>\n",
       "      <td>14</td>\n",
       "      <td>20</td>\n",
       "      <td>6.8</td>\n",
       "      <td>3.4</td>\n",
       "      <td>1.00</td>\n",
       "      <td>1</td>\n",
       "    </tr>\n",
       "    <tr>\n",
       "      <th>4</th>\n",
       "      <td>72</td>\n",
       "      <td>Male</td>\n",
       "      <td>3.9</td>\n",
       "      <td>2.0</td>\n",
       "      <td>195</td>\n",
       "      <td>27</td>\n",
       "      <td>59</td>\n",
       "      <td>7.3</td>\n",
       "      <td>2.4</td>\n",
       "      <td>0.40</td>\n",
       "      <td>1</td>\n",
       "    </tr>\n",
       "  </tbody>\n",
       "</table>\n",
       "</div>"
      ],
      "text/plain": [
       "   Age  Gender  Total_Bilirubin  Direct_Bilirubin  Alkaline_Phosphotase  \\\n",
       "0   65  Female              0.7               0.1                   187   \n",
       "1   62    Male             10.9               5.5                   699   \n",
       "2   62    Male              7.3               4.1                   490   \n",
       "3   58    Male              1.0               0.4                   182   \n",
       "4   72    Male              3.9               2.0                   195   \n",
       "\n",
       "   Alamine_Aminotransferase  Aspartate_Aminotransferase  Total_Protiens  \\\n",
       "0                        16                          18             6.8   \n",
       "1                        64                         100             7.5   \n",
       "2                        60                          68             7.0   \n",
       "3                        14                          20             6.8   \n",
       "4                        27                          59             7.3   \n",
       "\n",
       "   Albumin  Albumin_and_Globulin_Ratio  Dataset  \n",
       "0      3.3                        0.90        1  \n",
       "1      3.2                        0.74        1  \n",
       "2      3.3                        0.89        1  \n",
       "3      3.4                        1.00        1  \n",
       "4      2.4                        0.40        1  "
      ]
     },
     "execution_count": 3,
     "metadata": {},
     "output_type": "execute_result"
    }
   ],
   "source": [
    "df.head()"
   ]
  },
  {
   "cell_type": "code",
   "execution_count": 4,
   "metadata": {},
   "outputs": [
    {
     "data": {
      "text/html": [
       "<div>\n",
       "<style scoped>\n",
       "    .dataframe tbody tr th:only-of-type {\n",
       "        vertical-align: middle;\n",
       "    }\n",
       "\n",
       "    .dataframe tbody tr th {\n",
       "        vertical-align: top;\n",
       "    }\n",
       "\n",
       "    .dataframe thead th {\n",
       "        text-align: right;\n",
       "    }\n",
       "</style>\n",
       "<table border=\"1\" class=\"dataframe\">\n",
       "  <thead>\n",
       "    <tr style=\"text-align: right;\">\n",
       "      <th></th>\n",
       "      <th>Age</th>\n",
       "      <th>Total_Bilirubin</th>\n",
       "      <th>Direct_Bilirubin</th>\n",
       "      <th>Alkaline_Phosphotase</th>\n",
       "      <th>Alamine_Aminotransferase</th>\n",
       "      <th>Aspartate_Aminotransferase</th>\n",
       "      <th>Total_Protiens</th>\n",
       "      <th>Albumin</th>\n",
       "      <th>Albumin_and_Globulin_Ratio</th>\n",
       "      <th>Dataset</th>\n",
       "    </tr>\n",
       "  </thead>\n",
       "  <tbody>\n",
       "    <tr>\n",
       "      <th>count</th>\n",
       "      <td>583.000000</td>\n",
       "      <td>583.000000</td>\n",
       "      <td>583.000000</td>\n",
       "      <td>583.000000</td>\n",
       "      <td>583.000000</td>\n",
       "      <td>583.000000</td>\n",
       "      <td>583.000000</td>\n",
       "      <td>583.000000</td>\n",
       "      <td>579.000000</td>\n",
       "      <td>583.000000</td>\n",
       "    </tr>\n",
       "    <tr>\n",
       "      <th>mean</th>\n",
       "      <td>44.746141</td>\n",
       "      <td>3.298799</td>\n",
       "      <td>1.486106</td>\n",
       "      <td>290.576329</td>\n",
       "      <td>80.713551</td>\n",
       "      <td>109.910806</td>\n",
       "      <td>6.483190</td>\n",
       "      <td>3.141852</td>\n",
       "      <td>0.947064</td>\n",
       "      <td>1.286449</td>\n",
       "    </tr>\n",
       "    <tr>\n",
       "      <th>std</th>\n",
       "      <td>16.189833</td>\n",
       "      <td>6.209522</td>\n",
       "      <td>2.808498</td>\n",
       "      <td>242.937989</td>\n",
       "      <td>182.620356</td>\n",
       "      <td>288.918529</td>\n",
       "      <td>1.085451</td>\n",
       "      <td>0.795519</td>\n",
       "      <td>0.319592</td>\n",
       "      <td>0.452490</td>\n",
       "    </tr>\n",
       "    <tr>\n",
       "      <th>min</th>\n",
       "      <td>4.000000</td>\n",
       "      <td>0.400000</td>\n",
       "      <td>0.100000</td>\n",
       "      <td>63.000000</td>\n",
       "      <td>10.000000</td>\n",
       "      <td>10.000000</td>\n",
       "      <td>2.700000</td>\n",
       "      <td>0.900000</td>\n",
       "      <td>0.300000</td>\n",
       "      <td>1.000000</td>\n",
       "    </tr>\n",
       "    <tr>\n",
       "      <th>25%</th>\n",
       "      <td>33.000000</td>\n",
       "      <td>0.800000</td>\n",
       "      <td>0.200000</td>\n",
       "      <td>175.500000</td>\n",
       "      <td>23.000000</td>\n",
       "      <td>25.000000</td>\n",
       "      <td>5.800000</td>\n",
       "      <td>2.600000</td>\n",
       "      <td>0.700000</td>\n",
       "      <td>1.000000</td>\n",
       "    </tr>\n",
       "    <tr>\n",
       "      <th>50%</th>\n",
       "      <td>45.000000</td>\n",
       "      <td>1.000000</td>\n",
       "      <td>0.300000</td>\n",
       "      <td>208.000000</td>\n",
       "      <td>35.000000</td>\n",
       "      <td>42.000000</td>\n",
       "      <td>6.600000</td>\n",
       "      <td>3.100000</td>\n",
       "      <td>0.930000</td>\n",
       "      <td>1.000000</td>\n",
       "    </tr>\n",
       "    <tr>\n",
       "      <th>75%</th>\n",
       "      <td>58.000000</td>\n",
       "      <td>2.600000</td>\n",
       "      <td>1.300000</td>\n",
       "      <td>298.000000</td>\n",
       "      <td>60.500000</td>\n",
       "      <td>87.000000</td>\n",
       "      <td>7.200000</td>\n",
       "      <td>3.800000</td>\n",
       "      <td>1.100000</td>\n",
       "      <td>2.000000</td>\n",
       "    </tr>\n",
       "    <tr>\n",
       "      <th>max</th>\n",
       "      <td>90.000000</td>\n",
       "      <td>75.000000</td>\n",
       "      <td>19.700000</td>\n",
       "      <td>2110.000000</td>\n",
       "      <td>2000.000000</td>\n",
       "      <td>4929.000000</td>\n",
       "      <td>9.600000</td>\n",
       "      <td>5.500000</td>\n",
       "      <td>2.800000</td>\n",
       "      <td>2.000000</td>\n",
       "    </tr>\n",
       "  </tbody>\n",
       "</table>\n",
       "</div>"
      ],
      "text/plain": [
       "              Age  Total_Bilirubin  Direct_Bilirubin  Alkaline_Phosphotase  \\\n",
       "count  583.000000       583.000000        583.000000            583.000000   \n",
       "mean    44.746141         3.298799          1.486106            290.576329   \n",
       "std     16.189833         6.209522          2.808498            242.937989   \n",
       "min      4.000000         0.400000          0.100000             63.000000   \n",
       "25%     33.000000         0.800000          0.200000            175.500000   \n",
       "50%     45.000000         1.000000          0.300000            208.000000   \n",
       "75%     58.000000         2.600000          1.300000            298.000000   \n",
       "max     90.000000        75.000000         19.700000           2110.000000   \n",
       "\n",
       "       Alamine_Aminotransferase  Aspartate_Aminotransferase  Total_Protiens  \\\n",
       "count                583.000000                  583.000000      583.000000   \n",
       "mean                  80.713551                  109.910806        6.483190   \n",
       "std                  182.620356                  288.918529        1.085451   \n",
       "min                   10.000000                   10.000000        2.700000   \n",
       "25%                   23.000000                   25.000000        5.800000   \n",
       "50%                   35.000000                   42.000000        6.600000   \n",
       "75%                   60.500000                   87.000000        7.200000   \n",
       "max                 2000.000000                 4929.000000        9.600000   \n",
       "\n",
       "          Albumin  Albumin_and_Globulin_Ratio     Dataset  \n",
       "count  583.000000                  579.000000  583.000000  \n",
       "mean     3.141852                    0.947064    1.286449  \n",
       "std      0.795519                    0.319592    0.452490  \n",
       "min      0.900000                    0.300000    1.000000  \n",
       "25%      2.600000                    0.700000    1.000000  \n",
       "50%      3.100000                    0.930000    1.000000  \n",
       "75%      3.800000                    1.100000    2.000000  \n",
       "max      5.500000                    2.800000    2.000000  "
      ]
     },
     "execution_count": 4,
     "metadata": {},
     "output_type": "execute_result"
    }
   ],
   "source": [
    "df.describe()"
   ]
  },
  {
   "cell_type": "code",
   "execution_count": 5,
   "metadata": {},
   "outputs": [
    {
     "data": {
      "text/plain": [
       "(583, 11)"
      ]
     },
     "execution_count": 5,
     "metadata": {},
     "output_type": "execute_result"
    }
   ],
   "source": [
    "df.shape"
   ]
  },
  {
   "cell_type": "markdown",
   "metadata": {},
   "source": [
    "# Data Cleaning"
   ]
  },
  {
   "cell_type": "code",
   "execution_count": 6,
   "metadata": {},
   "outputs": [
    {
     "data": {
      "text/plain": [
       "Age                             int64\n",
       "Gender                         object\n",
       "Total_Bilirubin               float64\n",
       "Direct_Bilirubin              float64\n",
       "Alkaline_Phosphotase            int64\n",
       "Alamine_Aminotransferase        int64\n",
       "Aspartate_Aminotransferase      int64\n",
       "Total_Protiens                float64\n",
       "Albumin                       float64\n",
       "Albumin_and_Globulin_Ratio    float64\n",
       "Dataset                         int64\n",
       "dtype: object"
      ]
     },
     "execution_count": 6,
     "metadata": {},
     "output_type": "execute_result"
    }
   ],
   "source": [
    "#To check the data types\n",
    "df.dtypes"
   ]
  },
  {
   "cell_type": "code",
   "execution_count": 7,
   "metadata": {},
   "outputs": [
    {
     "data": {
      "text/plain": [
       "Age                           0\n",
       "Gender                        0\n",
       "Total_Bilirubin               0\n",
       "Direct_Bilirubin              0\n",
       "Alkaline_Phosphotase          0\n",
       "Alamine_Aminotransferase      0\n",
       "Aspartate_Aminotransferase    0\n",
       "Total_Protiens                0\n",
       "Albumin                       0\n",
       "Albumin_and_Globulin_Ratio    4\n",
       "Dataset                       0\n",
       "dtype: int64"
      ]
     },
     "execution_count": 7,
     "metadata": {},
     "output_type": "execute_result"
    }
   ],
   "source": [
    "#To show the total NULL Values present in the NULL Valued fields\n",
    "df.isnull().sum()"
   ]
  },
  {
   "cell_type": "markdown",
   "metadata": {},
   "source": [
    "filling the null values with median"
   ]
  },
  {
   "cell_type": "code",
   "execution_count": 8,
   "metadata": {},
   "outputs": [],
   "source": [
    "fill = df['Albumin_and_Globulin_Ratio']\n",
    "Albumin_and_Globulin_Ratio = fill.fillna(fill.median(),inplace=True)"
   ]
  },
  {
   "cell_type": "markdown",
   "metadata": {},
   "source": [
    "# H2O"
   ]
  },
  {
   "cell_type": "code",
   "execution_count": 9,
   "metadata": {},
   "outputs": [],
   "source": [
    "import h2o\n",
    "from h2o.automl import H2OAutoML\n",
    "import random, os, sys\n",
    "from datetime import datetime\n",
    "import pandas as pd\n",
    "import logging\n",
    "import csv\n",
    "import optparse\n",
    "import time\n",
    "import json\n",
    "from distutils.util import strtobool\n",
    "import psutil\n",
    "\n",
    "import warnings\n",
    "warnings.filterwarnings('ignore')"
   ]
  },
  {
   "cell_type": "code",
   "execution_count": 10,
   "metadata": {},
   "outputs": [
    {
     "name": "stdout",
     "output_type": "stream",
     "text": [
      "Checking whether there is an H2O instance running at http://localhost:27586 ..... not found.\n",
      "Attempting to start a local H2O server...\n",
      "; Java HotSpot(TM) 64-Bit Server VM (build 25.201-b09, mixed mode)\n",
      "  Starting server from C:\\Users\\Manvi\\Anaconda3\\lib\\site-packages\\h2o\\backend\\bin\\h2o.jar\n",
      "  Ice root: C:\\Users\\Manvi\\AppData\\Local\\Temp\\tmpwqj9xz_a\n",
      "  JVM stdout: C:\\Users\\Manvi\\AppData\\Local\\Temp\\tmpwqj9xz_a\\h2o_Manvi_started_from_python.out\n",
      "  JVM stderr: C:\\Users\\Manvi\\AppData\\Local\\Temp\\tmpwqj9xz_a\\h2o_Manvi_started_from_python.err\n",
      "  Server is running at http://127.0.0.1:27586\n",
      "Connecting to H2O server at http://127.0.0.1:27586 ... successful.\n"
     ]
    },
    {
     "data": {
      "text/html": [
       "<div style=\"overflow:auto\"><table style=\"width:50%\"><tr><td>H2O cluster uptime:</td>\n",
       "<td>02 secs</td></tr>\n",
       "<tr><td>H2O cluster timezone:</td>\n",
       "<td>America/New_York</td></tr>\n",
       "<tr><td>H2O data parsing timezone:</td>\n",
       "<td>UTC</td></tr>\n",
       "<tr><td>H2O cluster version:</td>\n",
       "<td>3.24.0.1</td></tr>\n",
       "<tr><td>H2O cluster version age:</td>\n",
       "<td>20 days </td></tr>\n",
       "<tr><td>H2O cluster name:</td>\n",
       "<td>H2O_from_python_Manvi_blojro</td></tr>\n",
       "<tr><td>H2O cluster total nodes:</td>\n",
       "<td>1</td></tr>\n",
       "<tr><td>H2O cluster free memory:</td>\n",
       "<td>4.792 Gb</td></tr>\n",
       "<tr><td>H2O cluster total cores:</td>\n",
       "<td>8</td></tr>\n",
       "<tr><td>H2O cluster allowed cores:</td>\n",
       "<td>8</td></tr>\n",
       "<tr><td>H2O cluster status:</td>\n",
       "<td>accepting new members, healthy</td></tr>\n",
       "<tr><td>H2O connection url:</td>\n",
       "<td>http://127.0.0.1:27586</td></tr>\n",
       "<tr><td>H2O connection proxy:</td>\n",
       "<td>None</td></tr>\n",
       "<tr><td>H2O internal security:</td>\n",
       "<td>False</td></tr>\n",
       "<tr><td>H2O API Extensions:</td>\n",
       "<td>Amazon S3, Algos, AutoML, Core V3, Core V4</td></tr>\n",
       "<tr><td>Python version:</td>\n",
       "<td>3.6.7 final</td></tr></table></div>"
      ],
      "text/plain": [
       "--------------------------  ------------------------------------------\n",
       "H2O cluster uptime:         02 secs\n",
       "H2O cluster timezone:       America/New_York\n",
       "H2O data parsing timezone:  UTC\n",
       "H2O cluster version:        3.24.0.1\n",
       "H2O cluster version age:    20 days\n",
       "H2O cluster name:           H2O_from_python_Manvi_blojro\n",
       "H2O cluster total nodes:    1\n",
       "H2O cluster free memory:    4.792 Gb\n",
       "H2O cluster total cores:    8\n",
       "H2O cluster allowed cores:  8\n",
       "H2O cluster status:         accepting new members, healthy\n",
       "H2O connection url:         http://127.0.0.1:27586\n",
       "H2O connection proxy:\n",
       "H2O internal security:      False\n",
       "H2O API Extensions:         Amazon S3, Algos, AutoML, Core V3, Core V4\n",
       "Python version:             3.6.7 final\n",
       "--------------------------  ------------------------------------------"
      ]
     },
     "metadata": {},
     "output_type": "display_data"
    }
   ],
   "source": [
    "port_no=random.randint(5555,55555)\n",
    "h2o.init(strict_version_check=False,min_mem_size_GB=5,port=port_no)"
   ]
  },
  {
   "cell_type": "code",
   "execution_count": 11,
   "metadata": {},
   "outputs": [
    {
     "name": "stdout",
     "output_type": "stream",
     "text": [
      "Parse progress: |█████████████████████████████████████████████████████████| 100%\n"
     ]
    }
   ],
   "source": [
    "#importing data to the server\n",
    "df = h2o.import_file(path=\"indian_liver_patient.csv\")"
   ]
  },
  {
   "cell_type": "code",
   "execution_count": 12,
   "metadata": {},
   "outputs": [
    {
     "data": {
      "text/html": [
       "<table>\n",
       "<thead>\n",
       "<tr><th style=\"text-align: right;\">  Age</th><th>Gender  </th><th style=\"text-align: right;\">  Total_Bilirubin</th><th style=\"text-align: right;\">  Direct_Bilirubin</th><th style=\"text-align: right;\">  Alkaline_Phosphotase</th><th style=\"text-align: right;\">  Alamine_Aminotransferase</th><th style=\"text-align: right;\">  Aspartate_Aminotransferase</th><th style=\"text-align: right;\">  Total_Protiens</th><th style=\"text-align: right;\">  Albumin</th><th style=\"text-align: right;\">  Albumin_and_Globulin_Ratio</th><th style=\"text-align: right;\">  Dataset</th></tr>\n",
       "</thead>\n",
       "<tbody>\n",
       "<tr><td style=\"text-align: right;\">   65</td><td>Female  </td><td style=\"text-align: right;\">              0.7</td><td style=\"text-align: right;\">               0.1</td><td style=\"text-align: right;\">                   187</td><td style=\"text-align: right;\">                        16</td><td style=\"text-align: right;\">                          18</td><td style=\"text-align: right;\">             6.8</td><td style=\"text-align: right;\">      3.3</td><td style=\"text-align: right;\">                        0.9 </td><td style=\"text-align: right;\">        1</td></tr>\n",
       "<tr><td style=\"text-align: right;\">   62</td><td>Male    </td><td style=\"text-align: right;\">             10.9</td><td style=\"text-align: right;\">               5.5</td><td style=\"text-align: right;\">                   699</td><td style=\"text-align: right;\">                        64</td><td style=\"text-align: right;\">                         100</td><td style=\"text-align: right;\">             7.5</td><td style=\"text-align: right;\">      3.2</td><td style=\"text-align: right;\">                        0.74</td><td style=\"text-align: right;\">        1</td></tr>\n",
       "<tr><td style=\"text-align: right;\">   62</td><td>Male    </td><td style=\"text-align: right;\">              7.3</td><td style=\"text-align: right;\">               4.1</td><td style=\"text-align: right;\">                   490</td><td style=\"text-align: right;\">                        60</td><td style=\"text-align: right;\">                          68</td><td style=\"text-align: right;\">             7  </td><td style=\"text-align: right;\">      3.3</td><td style=\"text-align: right;\">                        0.89</td><td style=\"text-align: right;\">        1</td></tr>\n",
       "<tr><td style=\"text-align: right;\">   58</td><td>Male    </td><td style=\"text-align: right;\">              1  </td><td style=\"text-align: right;\">               0.4</td><td style=\"text-align: right;\">                   182</td><td style=\"text-align: right;\">                        14</td><td style=\"text-align: right;\">                          20</td><td style=\"text-align: right;\">             6.8</td><td style=\"text-align: right;\">      3.4</td><td style=\"text-align: right;\">                        1   </td><td style=\"text-align: right;\">        1</td></tr>\n",
       "<tr><td style=\"text-align: right;\">   72</td><td>Male    </td><td style=\"text-align: right;\">              3.9</td><td style=\"text-align: right;\">               2  </td><td style=\"text-align: right;\">                   195</td><td style=\"text-align: right;\">                        27</td><td style=\"text-align: right;\">                          59</td><td style=\"text-align: right;\">             7.3</td><td style=\"text-align: right;\">      2.4</td><td style=\"text-align: right;\">                        0.4 </td><td style=\"text-align: right;\">        1</td></tr>\n",
       "<tr><td style=\"text-align: right;\">   46</td><td>Male    </td><td style=\"text-align: right;\">              1.8</td><td style=\"text-align: right;\">               0.7</td><td style=\"text-align: right;\">                   208</td><td style=\"text-align: right;\">                        19</td><td style=\"text-align: right;\">                          14</td><td style=\"text-align: right;\">             7.6</td><td style=\"text-align: right;\">      4.4</td><td style=\"text-align: right;\">                        1.3 </td><td style=\"text-align: right;\">        1</td></tr>\n",
       "<tr><td style=\"text-align: right;\">   26</td><td>Female  </td><td style=\"text-align: right;\">              0.9</td><td style=\"text-align: right;\">               0.2</td><td style=\"text-align: right;\">                   154</td><td style=\"text-align: right;\">                        16</td><td style=\"text-align: right;\">                          12</td><td style=\"text-align: right;\">             7  </td><td style=\"text-align: right;\">      3.5</td><td style=\"text-align: right;\">                        1   </td><td style=\"text-align: right;\">        1</td></tr>\n",
       "<tr><td style=\"text-align: right;\">   29</td><td>Female  </td><td style=\"text-align: right;\">              0.9</td><td style=\"text-align: right;\">               0.3</td><td style=\"text-align: right;\">                   202</td><td style=\"text-align: right;\">                        14</td><td style=\"text-align: right;\">                          11</td><td style=\"text-align: right;\">             6.7</td><td style=\"text-align: right;\">      3.6</td><td style=\"text-align: right;\">                        1.1 </td><td style=\"text-align: right;\">        1</td></tr>\n",
       "<tr><td style=\"text-align: right;\">   17</td><td>Male    </td><td style=\"text-align: right;\">              0.9</td><td style=\"text-align: right;\">               0.3</td><td style=\"text-align: right;\">                   202</td><td style=\"text-align: right;\">                        22</td><td style=\"text-align: right;\">                          19</td><td style=\"text-align: right;\">             7.4</td><td style=\"text-align: right;\">      4.1</td><td style=\"text-align: right;\">                        1.2 </td><td style=\"text-align: right;\">        2</td></tr>\n",
       "<tr><td style=\"text-align: right;\">   55</td><td>Male    </td><td style=\"text-align: right;\">              0.7</td><td style=\"text-align: right;\">               0.2</td><td style=\"text-align: right;\">                   290</td><td style=\"text-align: right;\">                        53</td><td style=\"text-align: right;\">                          58</td><td style=\"text-align: right;\">             6.8</td><td style=\"text-align: right;\">      3.4</td><td style=\"text-align: right;\">                        1   </td><td style=\"text-align: right;\">        1</td></tr>\n",
       "</tbody>\n",
       "</table>"
      ]
     },
     "metadata": {},
     "output_type": "display_data"
    },
    {
     "data": {
      "text/plain": []
     },
     "execution_count": 12,
     "metadata": {},
     "output_type": "execute_result"
    }
   ],
   "source": [
    "df.head()"
   ]
  },
  {
   "cell_type": "code",
   "execution_count": 13,
   "metadata": {},
   "outputs": [
    {
     "data": {
      "text/html": [
       "<table>\n",
       "<thead>\n",
       "<tr><th style=\"text-align: right;\">  isNA(Age)</th><th style=\"text-align: right;\">  isNA(Gender)</th><th style=\"text-align: right;\">  isNA(Total_Bilirubin)</th><th style=\"text-align: right;\">  isNA(Direct_Bilirubin)</th><th style=\"text-align: right;\">  isNA(Alkaline_Phosphotase)</th><th style=\"text-align: right;\">  isNA(Alamine_Aminotransferase)</th><th style=\"text-align: right;\">  isNA(Aspartate_Aminotransferase)</th><th style=\"text-align: right;\">  isNA(Total_Protiens)</th><th style=\"text-align: right;\">  isNA(Albumin)</th><th style=\"text-align: right;\">  isNA(Albumin_and_Globulin_Ratio)</th><th style=\"text-align: right;\">  isNA(Dataset)</th></tr>\n",
       "</thead>\n",
       "<tbody>\n",
       "<tr><td style=\"text-align: right;\">          0</td><td style=\"text-align: right;\">             0</td><td style=\"text-align: right;\">                      0</td><td style=\"text-align: right;\">                       0</td><td style=\"text-align: right;\">                           0</td><td style=\"text-align: right;\">                               0</td><td style=\"text-align: right;\">                                 0</td><td style=\"text-align: right;\">                     0</td><td style=\"text-align: right;\">              0</td><td style=\"text-align: right;\">                                 0</td><td style=\"text-align: right;\">              0</td></tr>\n",
       "<tr><td style=\"text-align: right;\">          0</td><td style=\"text-align: right;\">             0</td><td style=\"text-align: right;\">                      0</td><td style=\"text-align: right;\">                       0</td><td style=\"text-align: right;\">                           0</td><td style=\"text-align: right;\">                               0</td><td style=\"text-align: right;\">                                 0</td><td style=\"text-align: right;\">                     0</td><td style=\"text-align: right;\">              0</td><td style=\"text-align: right;\">                                 0</td><td style=\"text-align: right;\">              0</td></tr>\n",
       "<tr><td style=\"text-align: right;\">          0</td><td style=\"text-align: right;\">             0</td><td style=\"text-align: right;\">                      0</td><td style=\"text-align: right;\">                       0</td><td style=\"text-align: right;\">                           0</td><td style=\"text-align: right;\">                               0</td><td style=\"text-align: right;\">                                 0</td><td style=\"text-align: right;\">                     0</td><td style=\"text-align: right;\">              0</td><td style=\"text-align: right;\">                                 0</td><td style=\"text-align: right;\">              0</td></tr>\n",
       "<tr><td style=\"text-align: right;\">          0</td><td style=\"text-align: right;\">             0</td><td style=\"text-align: right;\">                      0</td><td style=\"text-align: right;\">                       0</td><td style=\"text-align: right;\">                           0</td><td style=\"text-align: right;\">                               0</td><td style=\"text-align: right;\">                                 0</td><td style=\"text-align: right;\">                     0</td><td style=\"text-align: right;\">              0</td><td style=\"text-align: right;\">                                 0</td><td style=\"text-align: right;\">              0</td></tr>\n",
       "<tr><td style=\"text-align: right;\">          0</td><td style=\"text-align: right;\">             0</td><td style=\"text-align: right;\">                      0</td><td style=\"text-align: right;\">                       0</td><td style=\"text-align: right;\">                           0</td><td style=\"text-align: right;\">                               0</td><td style=\"text-align: right;\">                                 0</td><td style=\"text-align: right;\">                     0</td><td style=\"text-align: right;\">              0</td><td style=\"text-align: right;\">                                 0</td><td style=\"text-align: right;\">              0</td></tr>\n",
       "<tr><td style=\"text-align: right;\">          0</td><td style=\"text-align: right;\">             0</td><td style=\"text-align: right;\">                      0</td><td style=\"text-align: right;\">                       0</td><td style=\"text-align: right;\">                           0</td><td style=\"text-align: right;\">                               0</td><td style=\"text-align: right;\">                                 0</td><td style=\"text-align: right;\">                     0</td><td style=\"text-align: right;\">              0</td><td style=\"text-align: right;\">                                 0</td><td style=\"text-align: right;\">              0</td></tr>\n",
       "<tr><td style=\"text-align: right;\">          0</td><td style=\"text-align: right;\">             0</td><td style=\"text-align: right;\">                      0</td><td style=\"text-align: right;\">                       0</td><td style=\"text-align: right;\">                           0</td><td style=\"text-align: right;\">                               0</td><td style=\"text-align: right;\">                                 0</td><td style=\"text-align: right;\">                     0</td><td style=\"text-align: right;\">              0</td><td style=\"text-align: right;\">                                 0</td><td style=\"text-align: right;\">              0</td></tr>\n",
       "<tr><td style=\"text-align: right;\">          0</td><td style=\"text-align: right;\">             0</td><td style=\"text-align: right;\">                      0</td><td style=\"text-align: right;\">                       0</td><td style=\"text-align: right;\">                           0</td><td style=\"text-align: right;\">                               0</td><td style=\"text-align: right;\">                                 0</td><td style=\"text-align: right;\">                     0</td><td style=\"text-align: right;\">              0</td><td style=\"text-align: right;\">                                 0</td><td style=\"text-align: right;\">              0</td></tr>\n",
       "<tr><td style=\"text-align: right;\">          0</td><td style=\"text-align: right;\">             0</td><td style=\"text-align: right;\">                      0</td><td style=\"text-align: right;\">                       0</td><td style=\"text-align: right;\">                           0</td><td style=\"text-align: right;\">                               0</td><td style=\"text-align: right;\">                                 0</td><td style=\"text-align: right;\">                     0</td><td style=\"text-align: right;\">              0</td><td style=\"text-align: right;\">                                 0</td><td style=\"text-align: right;\">              0</td></tr>\n",
       "<tr><td style=\"text-align: right;\">          0</td><td style=\"text-align: right;\">             0</td><td style=\"text-align: right;\">                      0</td><td style=\"text-align: right;\">                       0</td><td style=\"text-align: right;\">                           0</td><td style=\"text-align: right;\">                               0</td><td style=\"text-align: right;\">                                 0</td><td style=\"text-align: right;\">                     0</td><td style=\"text-align: right;\">              0</td><td style=\"text-align: right;\">                                 0</td><td style=\"text-align: right;\">              0</td></tr>\n",
       "</tbody>\n",
       "</table>"
      ]
     },
     "metadata": {},
     "output_type": "display_data"
    },
    {
     "data": {
      "text/plain": []
     },
     "execution_count": 13,
     "metadata": {},
     "output_type": "execute_result"
    }
   ],
   "source": [
    "df.isna()"
   ]
  },
  {
   "cell_type": "code",
   "execution_count": 34,
   "metadata": {},
   "outputs": [],
   "source": [
    "target = 'Dataset'\n",
    "run_time=1200\n",
    "pct_memory=0.5\n",
    "server_path=None \n",
    "data_path=None\n",
    "all_variables=None\n",
    "test_path=None\n",
    "model_path=None\n",
    "nthreads=1 \n",
    "name=None \n",
    "virtual_memory=psutil.virtual_memory()\n",
    "min_mem_size=int(round(int(pct_memory*virtual_memory.available)/1073741824,0))\n",
    "run_id='SOME_ID_20180617_221529' # Just some arbitrary ID\n",
    "classification=True\n",
    "scale=False\n",
    "max_models=None\n",
    "balance_y=False # balance_classes=balance_y\n",
    "balance_threshold=0.2\n",
    "project =\"automl_test\"\n",
    "analysis=0"
   ]
  },
  {
   "cell_type": "markdown",
   "metadata": {},
   "source": [
    "defining functions"
   ]
  },
  {
   "cell_type": "code",
   "execution_count": 35,
   "metadata": {},
   "outputs": [],
   "source": [
    "def alphabet(n):\n",
    "  alpha='0123456789abcdefghijklmnopqrstuvwxyzABCDEFGHIJKLMNOPQRSTUVWXYZ'    \n",
    "  str=''\n",
    "  r=len(alpha)-1   \n",
    "  while len(str)<n:\n",
    "    i=random.randint(0,r)\n",
    "    str+=alpha[i]   \n",
    "  return str\n",
    "\n",
    "\n",
    "def set_meta_data(analysis,run_id,server,data,test,model_path,target,run_time,classification,scale,model,balance,balance_threshold,name,path,nthreads,min_mem_size):\n",
    "  m_data={}\n",
    "  m_data['start_time'] = time.time()\n",
    "  m_data['target']=target\n",
    "  m_data['server_path']=server\n",
    "  m_data['data_path']=data \n",
    "  m_data['test_path']=test\n",
    "  m_data['max_models']=model\n",
    "  m_data['run_time']=run_time\n",
    "  m_data['run_id'] =run_id\n",
    "  m_data['scale']=scale\n",
    "  m_data['classification']=classification\n",
    "  m_data['scale']=False\n",
    "  m_data['model_path']=model_path\n",
    "  m_data['balance']=balance\n",
    "  m_data['balance_threshold']=balance_threshold\n",
    "  m_data['project'] =name\n",
    "  m_data['end_time'] = time.time()\n",
    "  m_data['execution_time'] = 0.0\n",
    "  m_data['run_path'] =path\n",
    "  m_data['nthreads'] = nthreads\n",
    "  m_data['min_mem_size'] = min_mem_size\n",
    "  m_data['analysis'] = analysis\n",
    "  return m_data\n",
    "\n",
    "\n",
    "def automl(maxruntime,X,Y,df):\n",
    "    aml = H2OAutoML(max_runtime_secs=maxruntime,exclude_algos = ['DeepLearning', 'StackedEnsemble'])\n",
    "    aml.train(x=X,y=y,training_frame=df)\n",
    "    return aml\n",
    "\n",
    "\n",
    "def dict_to_json(dct,n):  \n",
    "    j = json.dumps(dct, indent=4)\n",
    "    f = open(n, 'w')\n",
    "    print(j, file=f)\n",
    "    f.close()"
   ]
  },
  {
   "cell_type": "markdown",
   "metadata": {},
   "source": [
    "generating a unique random ID for every runtime"
   ]
  },
  {
   "cell_type": "code",
   "execution_count": 54,
   "metadata": {},
   "outputs": [
    {
     "name": "stdout",
     "output_type": "stream",
     "text": [
      "RHNRdOUmX\n"
     ]
    }
   ],
   "source": [
    "run_id=alphabet(9)\n",
    "if server_path==None:\n",
    "  server_path=os.path.abspath(os.curdir)\n",
    "os.chdir(server_path) \n",
    "run_dir = os.path.join(server_path,run_id)\n",
    "os.mkdir(run_dir)\n",
    "os.chdir(run_dir)    \n",
    "\n",
    "# run_id to std out\n",
    "print (run_id)"
   ]
  },
  {
   "cell_type": "code",
   "execution_count": 55,
   "metadata": {},
   "outputs": [
    {
     "name": "stdout",
     "output_type": "stream",
     "text": [
      "{'start_time': 1555886773.8907285, 'target': 'Dataset', 'server_path': 'C:\\\\Users\\\\Manvi\\\\Anaconda3\\\\indian-liver-patient-records\\\\uh5qmPqcn', 'data_path': None, 'test_path': None, 'max_models': None, 'run_time': 1200, 'run_id': 'RHNRdOUmX', 'scale': False, 'classification': True, 'model_path': None, 'balance': False, 'balance_threshold': 0.2, 'project': None, 'end_time': 1555886773.8907285, 'execution_time': 0.0, 'run_path': 'C:\\\\Users\\\\Manvi\\\\Anaconda3\\\\indian-liver-patient-records\\\\uh5qmPqcn\\\\RHNRdOUmX', 'nthreads': 1, 'min_mem_size': 1, 'analysis': 0}\n"
     ]
    }
   ],
   "source": [
    "# meta data\n",
    "meta_data = set_meta_data(analysis, run_id,server_path,data_path,test_path,model_path,target,run_time,classification,scale,max_models,balance_y,balance_threshold,name,run_dir,nthreads,min_mem_size)\n",
    "print(meta_data)"
   ]
  },
  {
   "cell_type": "code",
   "execution_count": 56,
   "metadata": {},
   "outputs": [
    {
     "name": "stdout",
     "output_type": "stream",
     "text": [
      "['Age', 'Gender', 'Total_Bilirubin', 'Direct_Bilirubin', 'Alkaline_Phosphotase', 'Alamine_Aminotransferase', 'Aspartate_Aminotransferase', 'Total_Protiens', 'Albumin', 'Albumin_and_Globulin_Ratio']\n",
      "Dataset\n"
     ]
    }
   ],
   "source": [
    "y = target\n",
    "X=[name for name in df.columns if name != y]\n",
    "print(X)\n",
    "print(y)"
   ]
  },
  {
   "cell_type": "code",
   "execution_count": 57,
   "metadata": {},
   "outputs": [],
   "source": [
    "meta_data['X']=X  \n",
    "model_start_time = time.time()"
   ]
  },
  {
   "cell_type": "code",
   "execution_count": 58,
   "metadata": {},
   "outputs": [],
   "source": [
    "if analysis == 3:\n",
    "  classification=False\n",
    "elif analysis == 2:\n",
    "  classification=True\n",
    "elif analysis == 1:\n",
    "  classification=True"
   ]
  },
  {
   "cell_type": "markdown",
   "metadata": {},
   "source": [
    "The dependent variable is classification type"
   ]
  },
  {
   "cell_type": "code",
   "execution_count": 59,
   "metadata": {},
   "outputs": [],
   "source": [
    "if classification:\n",
    "    df[y] = df[y].asfactor()"
   ]
  },
  {
   "cell_type": "code",
   "execution_count": 60,
   "metadata": {},
   "outputs": [
    {
     "name": "stdout",
     "output_type": "stream",
     "text": [
      "[['1', '2']]\n"
     ]
    }
   ],
   "source": [
    "classification=True\n",
    "if classification:\n",
    "    print(df[y].levels())"
   ]
  },
  {
   "cell_type": "markdown",
   "metadata": {},
   "source": [
    "# Runtime: 1200sec"
   ]
  },
  {
   "cell_type": "code",
   "execution_count": 61,
   "metadata": {},
   "outputs": [
    {
     "name": "stdout",
     "output_type": "stream",
     "text": [
      "AutoML progress: |████████████████████████████████████████████████████████| 100%\n"
     ]
    }
   ],
   "source": [
    "aml5 = automl(1200,X,y,df)"
   ]
  },
  {
   "cell_type": "code",
   "execution_count": 62,
   "metadata": {},
   "outputs": [],
   "source": [
    "meta_data['run_time'] = 1200\n",
    "meta_data['end_time'] = time.time()\n",
    "meta_data['execution_time'] = meta_data['end_time'] - meta_data['start_time']"
   ]
  },
  {
   "cell_type": "markdown",
   "metadata": {},
   "source": [
    "generating a leaderboard for the best models"
   ]
  },
  {
   "cell_type": "code",
   "execution_count": 63,
   "metadata": {},
   "outputs": [
    {
     "data": {
      "text/html": [
       "<table>\n",
       "<thead>\n",
       "<tr><th>model_id                                  </th><th style=\"text-align: right;\">     auc</th><th style=\"text-align: right;\">  logloss</th><th style=\"text-align: right;\">  mean_per_class_error</th><th style=\"text-align: right;\">    rmse</th><th style=\"text-align: right;\">     mse</th></tr>\n",
       "</thead>\n",
       "<tbody>\n",
       "<tr><td>GBM_1_AutoML_20190421_184623              </td><td style=\"text-align: right;\">0.763315</td><td style=\"text-align: right;\"> 0.518868</td><td style=\"text-align: right;\">              0.282106</td><td style=\"text-align: right;\">0.417282</td><td style=\"text-align: right;\">0.174124</td></tr>\n",
       "<tr><td>GBM_grid_1_AutoML_20190421_184623_model_3 </td><td style=\"text-align: right;\">0.75529 </td><td style=\"text-align: right;\"> 0.511873</td><td style=\"text-align: right;\">              0.287526</td><td style=\"text-align: right;\">0.416346</td><td style=\"text-align: right;\">0.173344</td></tr>\n",
       "<tr><td>GBM_grid_1_AutoML_20190421_184623_model_17</td><td style=\"text-align: right;\">0.751821</td><td style=\"text-align: right;\"> 0.520431</td><td style=\"text-align: right;\">              0.295349</td><td style=\"text-align: right;\">0.420088</td><td style=\"text-align: right;\">0.176474</td></tr>\n",
       "<tr><td>GLM_grid_1_AutoML_20190421_184623_model_1 </td><td style=\"text-align: right;\">0.751699</td><td style=\"text-align: right;\"> 0.503103</td><td style=\"text-align: right;\">              0.2955  </td><td style=\"text-align: right;\">0.413658</td><td style=\"text-align: right;\">0.171113</td></tr>\n",
       "<tr><td>GBM_5_AutoML_20190421_184623              </td><td style=\"text-align: right;\">0.74756 </td><td style=\"text-align: right;\"> 0.513657</td><td style=\"text-align: right;\">              0.291787</td><td style=\"text-align: right;\">0.416341</td><td style=\"text-align: right;\">0.17334 </td></tr>\n",
       "<tr><td>GBM_grid_1_AutoML_20190421_184623_model_10</td><td style=\"text-align: right;\">0.738341</td><td style=\"text-align: right;\"> 0.517955</td><td style=\"text-align: right;\">              0.3002  </td><td style=\"text-align: right;\">0.419934</td><td style=\"text-align: right;\">0.176345</td></tr>\n",
       "<tr><td>GBM_grid_1_AutoML_20190421_184623_model_19</td><td style=\"text-align: right;\">0.737506</td><td style=\"text-align: right;\"> 0.563755</td><td style=\"text-align: right;\">              0.306606</td><td style=\"text-align: right;\">0.436159</td><td style=\"text-align: right;\">0.190235</td></tr>\n",
       "<tr><td>XRT_1_AutoML_20190421_184623              </td><td style=\"text-align: right;\">0.737455</td><td style=\"text-align: right;\"> 0.522825</td><td style=\"text-align: right;\">              0.302582</td><td style=\"text-align: right;\">0.426277</td><td style=\"text-align: right;\">0.181712</td></tr>\n",
       "<tr><td>GBM_grid_1_AutoML_20190421_184623_model_13</td><td style=\"text-align: right;\">0.736016</td><td style=\"text-align: right;\"> 0.567106</td><td style=\"text-align: right;\">              0.294716</td><td style=\"text-align: right;\">0.437618</td><td style=\"text-align: right;\">0.19151 </td></tr>\n",
       "<tr><td>GBM_4_AutoML_20190421_184623              </td><td style=\"text-align: right;\">0.735541</td><td style=\"text-align: right;\"> 0.539759</td><td style=\"text-align: right;\">              0.292881</td><td style=\"text-align: right;\">0.430512</td><td style=\"text-align: right;\">0.18534 </td></tr>\n",
       "</tbody>\n",
       "</table>"
      ]
     },
     "metadata": {},
     "output_type": "display_data"
    },
    {
     "data": {
      "text/plain": []
     },
     "execution_count": 63,
     "metadata": {},
     "output_type": "execute_result"
    }
   ],
   "source": [
    "aml5.leaderboard"
   ]
  },
  {
   "cell_type": "code",
   "execution_count": 64,
   "metadata": {},
   "outputs": [
    {
     "data": {
      "text/html": [
       "<div>\n",
       "<style scoped>\n",
       "    .dataframe tbody tr th:only-of-type {\n",
       "        vertical-align: middle;\n",
       "    }\n",
       "\n",
       "    .dataframe tbody tr th {\n",
       "        vertical-align: top;\n",
       "    }\n",
       "\n",
       "    .dataframe thead th {\n",
       "        text-align: right;\n",
       "    }\n",
       "</style>\n",
       "<table border=\"1\" class=\"dataframe\">\n",
       "  <thead>\n",
       "    <tr style=\"text-align: right;\">\n",
       "      <th></th>\n",
       "      <th>model_id</th>\n",
       "      <th>auc</th>\n",
       "      <th>logloss</th>\n",
       "      <th>mean_per_class_error</th>\n",
       "      <th>rmse</th>\n",
       "      <th>mse</th>\n",
       "    </tr>\n",
       "  </thead>\n",
       "  <tbody>\n",
       "    <tr>\n",
       "      <th>0</th>\n",
       "      <td>GBM_1_AutoML_20190421_184623</td>\n",
       "      <td>0.763315</td>\n",
       "      <td>0.518868</td>\n",
       "      <td>0.282106</td>\n",
       "      <td>0.417282</td>\n",
       "      <td>0.174124</td>\n",
       "    </tr>\n",
       "    <tr>\n",
       "      <th>1</th>\n",
       "      <td>GBM_grid_1_AutoML_20190421_184623_model_3</td>\n",
       "      <td>0.755290</td>\n",
       "      <td>0.511873</td>\n",
       "      <td>0.287526</td>\n",
       "      <td>0.416346</td>\n",
       "      <td>0.173344</td>\n",
       "    </tr>\n",
       "    <tr>\n",
       "      <th>2</th>\n",
       "      <td>GBM_grid_1_AutoML_20190421_184623_model_17</td>\n",
       "      <td>0.751821</td>\n",
       "      <td>0.520431</td>\n",
       "      <td>0.295349</td>\n",
       "      <td>0.420088</td>\n",
       "      <td>0.176474</td>\n",
       "    </tr>\n",
       "    <tr>\n",
       "      <th>3</th>\n",
       "      <td>GLM_grid_1_AutoML_20190421_184623_model_1</td>\n",
       "      <td>0.751699</td>\n",
       "      <td>0.503103</td>\n",
       "      <td>0.295500</td>\n",
       "      <td>0.413658</td>\n",
       "      <td>0.171113</td>\n",
       "    </tr>\n",
       "    <tr>\n",
       "      <th>4</th>\n",
       "      <td>GBM_5_AutoML_20190421_184623</td>\n",
       "      <td>0.747560</td>\n",
       "      <td>0.513657</td>\n",
       "      <td>0.291787</td>\n",
       "      <td>0.416341</td>\n",
       "      <td>0.173340</td>\n",
       "    </tr>\n",
       "    <tr>\n",
       "      <th>5</th>\n",
       "      <td>GBM_grid_1_AutoML_20190421_184623_model_10</td>\n",
       "      <td>0.738341</td>\n",
       "      <td>0.517955</td>\n",
       "      <td>0.300200</td>\n",
       "      <td>0.419934</td>\n",
       "      <td>0.176345</td>\n",
       "    </tr>\n",
       "    <tr>\n",
       "      <th>6</th>\n",
       "      <td>GBM_grid_1_AutoML_20190421_184623_model_19</td>\n",
       "      <td>0.737506</td>\n",
       "      <td>0.563755</td>\n",
       "      <td>0.306606</td>\n",
       "      <td>0.436159</td>\n",
       "      <td>0.190235</td>\n",
       "    </tr>\n",
       "    <tr>\n",
       "      <th>7</th>\n",
       "      <td>XRT_1_AutoML_20190421_184623</td>\n",
       "      <td>0.737455</td>\n",
       "      <td>0.522825</td>\n",
       "      <td>0.302582</td>\n",
       "      <td>0.426277</td>\n",
       "      <td>0.181712</td>\n",
       "    </tr>\n",
       "    <tr>\n",
       "      <th>8</th>\n",
       "      <td>GBM_grid_1_AutoML_20190421_184623_model_13</td>\n",
       "      <td>0.736016</td>\n",
       "      <td>0.567106</td>\n",
       "      <td>0.294716</td>\n",
       "      <td>0.437618</td>\n",
       "      <td>0.191510</td>\n",
       "    </tr>\n",
       "    <tr>\n",
       "      <th>9</th>\n",
       "      <td>GBM_4_AutoML_20190421_184623</td>\n",
       "      <td>0.735541</td>\n",
       "      <td>0.539759</td>\n",
       "      <td>0.292881</td>\n",
       "      <td>0.430512</td>\n",
       "      <td>0.185340</td>\n",
       "    </tr>\n",
       "    <tr>\n",
       "      <th>10</th>\n",
       "      <td>GBM_grid_1_AutoML_20190421_184623_model_14</td>\n",
       "      <td>0.732612</td>\n",
       "      <td>0.570291</td>\n",
       "      <td>0.303698</td>\n",
       "      <td>0.439193</td>\n",
       "      <td>0.192891</td>\n",
       "    </tr>\n",
       "    <tr>\n",
       "      <th>11</th>\n",
       "      <td>GBM_grid_1_AutoML_20190421_184623_model_6</td>\n",
       "      <td>0.732331</td>\n",
       "      <td>0.569009</td>\n",
       "      <td>0.301272</td>\n",
       "      <td>0.438587</td>\n",
       "      <td>0.192359</td>\n",
       "    </tr>\n",
       "    <tr>\n",
       "      <th>12</th>\n",
       "      <td>GBM_grid_1_AutoML_20190421_184623_model_22</td>\n",
       "      <td>0.731367</td>\n",
       "      <td>0.522957</td>\n",
       "      <td>0.305663</td>\n",
       "      <td>0.422386</td>\n",
       "      <td>0.178410</td>\n",
       "    </tr>\n",
       "    <tr>\n",
       "      <th>13</th>\n",
       "      <td>GBM_grid_1_AutoML_20190421_184623_model_7</td>\n",
       "      <td>0.730971</td>\n",
       "      <td>0.529515</td>\n",
       "      <td>0.304921</td>\n",
       "      <td>0.426838</td>\n",
       "      <td>0.182190</td>\n",
       "    </tr>\n",
       "    <tr>\n",
       "      <th>14</th>\n",
       "      <td>GBM_grid_1_AutoML_20190421_184623_model_2</td>\n",
       "      <td>0.730150</td>\n",
       "      <td>0.573667</td>\n",
       "      <td>0.314407</td>\n",
       "      <td>0.439074</td>\n",
       "      <td>0.192786</td>\n",
       "    </tr>\n",
       "    <tr>\n",
       "      <th>15</th>\n",
       "      <td>GBM_2_AutoML_20190421_184623</td>\n",
       "      <td>0.729416</td>\n",
       "      <td>0.538834</td>\n",
       "      <td>0.311082</td>\n",
       "      <td>0.430388</td>\n",
       "      <td>0.185233</td>\n",
       "    </tr>\n",
       "    <tr>\n",
       "      <th>16</th>\n",
       "      <td>GBM_grid_1_AutoML_20190421_184623_model_1</td>\n",
       "      <td>0.729301</td>\n",
       "      <td>0.565119</td>\n",
       "      <td>0.302626</td>\n",
       "      <td>0.436836</td>\n",
       "      <td>0.190826</td>\n",
       "    </tr>\n",
       "    <tr>\n",
       "      <th>17</th>\n",
       "      <td>GBM_3_AutoML_20190421_184623</td>\n",
       "      <td>0.729207</td>\n",
       "      <td>0.541731</td>\n",
       "      <td>0.315192</td>\n",
       "      <td>0.430133</td>\n",
       "      <td>0.185015</td>\n",
       "    </tr>\n",
       "    <tr>\n",
       "      <th>18</th>\n",
       "      <td>DRF_1_AutoML_20190421_184623</td>\n",
       "      <td>0.728596</td>\n",
       "      <td>0.590811</td>\n",
       "      <td>0.318884</td>\n",
       "      <td>0.431486</td>\n",
       "      <td>0.186180</td>\n",
       "    </tr>\n",
       "    <tr>\n",
       "      <th>19</th>\n",
       "      <td>GBM_grid_1_AutoML_20190421_184623_model_9</td>\n",
       "      <td>0.728193</td>\n",
       "      <td>0.565726</td>\n",
       "      <td>0.309053</td>\n",
       "      <td>0.437025</td>\n",
       "      <td>0.190991</td>\n",
       "    </tr>\n",
       "    <tr>\n",
       "      <th>20</th>\n",
       "      <td>GBM_grid_1_AutoML_20190421_184623_model_21</td>\n",
       "      <td>0.723443</td>\n",
       "      <td>0.532705</td>\n",
       "      <td>0.316984</td>\n",
       "      <td>0.426213</td>\n",
       "      <td>0.181658</td>\n",
       "    </tr>\n",
       "    <tr>\n",
       "      <th>21</th>\n",
       "      <td>GBM_grid_1_AutoML_20190421_184623_model_4</td>\n",
       "      <td>0.720600</td>\n",
       "      <td>0.584400</td>\n",
       "      <td>0.313313</td>\n",
       "      <td>0.445523</td>\n",
       "      <td>0.198490</td>\n",
       "    </tr>\n",
       "    <tr>\n",
       "      <th>22</th>\n",
       "      <td>GBM_grid_1_AutoML_20190421_184623_model_12</td>\n",
       "      <td>0.710070</td>\n",
       "      <td>0.953987</td>\n",
       "      <td>0.334818</td>\n",
       "      <td>0.486709</td>\n",
       "      <td>0.236886</td>\n",
       "    </tr>\n",
       "    <tr>\n",
       "      <th>23</th>\n",
       "      <td>GBM_grid_1_AutoML_20190421_184623_model_11</td>\n",
       "      <td>0.696640</td>\n",
       "      <td>0.776455</td>\n",
       "      <td>0.343491</td>\n",
       "      <td>0.481070</td>\n",
       "      <td>0.231429</td>\n",
       "    </tr>\n",
       "    <tr>\n",
       "      <th>24</th>\n",
       "      <td>GBM_grid_1_AutoML_20190421_184623_model_8</td>\n",
       "      <td>0.688803</td>\n",
       "      <td>0.587878</td>\n",
       "      <td>0.317617</td>\n",
       "      <td>0.447126</td>\n",
       "      <td>0.199921</td>\n",
       "    </tr>\n",
       "    <tr>\n",
       "      <th>25</th>\n",
       "      <td>GBM_grid_1_AutoML_20190421_184623_model_15</td>\n",
       "      <td>0.676625</td>\n",
       "      <td>0.579023</td>\n",
       "      <td>0.331234</td>\n",
       "      <td>0.443178</td>\n",
       "      <td>0.196407</td>\n",
       "    </tr>\n",
       "    <tr>\n",
       "      <th>26</th>\n",
       "      <td>GBM_grid_1_AutoML_20190421_184623_model_20</td>\n",
       "      <td>0.660482</td>\n",
       "      <td>0.595093</td>\n",
       "      <td>0.374849</td>\n",
       "      <td>0.450364</td>\n",
       "      <td>0.202827</td>\n",
       "    </tr>\n",
       "    <tr>\n",
       "      <th>27</th>\n",
       "      <td>GBM_grid_1_AutoML_20190421_184623_model_18</td>\n",
       "      <td>0.660021</td>\n",
       "      <td>0.595023</td>\n",
       "      <td>0.381513</td>\n",
       "      <td>0.450334</td>\n",
       "      <td>0.202801</td>\n",
       "    </tr>\n",
       "    <tr>\n",
       "      <th>28</th>\n",
       "      <td>GBM_grid_1_AutoML_20190421_184623_model_16</td>\n",
       "      <td>0.655322</td>\n",
       "      <td>0.595157</td>\n",
       "      <td>0.351840</td>\n",
       "      <td>0.450395</td>\n",
       "      <td>0.202855</td>\n",
       "    </tr>\n",
       "    <tr>\n",
       "      <th>29</th>\n",
       "      <td>GBM_grid_1_AutoML_20190421_184623_model_5</td>\n",
       "      <td>0.613758</td>\n",
       "      <td>0.596316</td>\n",
       "      <td>0.383284</td>\n",
       "      <td>0.450917</td>\n",
       "      <td>0.203326</td>\n",
       "    </tr>\n",
       "  </tbody>\n",
       "</table>\n",
       "</div>"
      ],
      "text/plain": [
       "                                      model_id       auc   logloss  \\\n",
       "0                 GBM_1_AutoML_20190421_184623  0.763315  0.518868   \n",
       "1    GBM_grid_1_AutoML_20190421_184623_model_3  0.755290  0.511873   \n",
       "2   GBM_grid_1_AutoML_20190421_184623_model_17  0.751821  0.520431   \n",
       "3    GLM_grid_1_AutoML_20190421_184623_model_1  0.751699  0.503103   \n",
       "4                 GBM_5_AutoML_20190421_184623  0.747560  0.513657   \n",
       "5   GBM_grid_1_AutoML_20190421_184623_model_10  0.738341  0.517955   \n",
       "6   GBM_grid_1_AutoML_20190421_184623_model_19  0.737506  0.563755   \n",
       "7                 XRT_1_AutoML_20190421_184623  0.737455  0.522825   \n",
       "8   GBM_grid_1_AutoML_20190421_184623_model_13  0.736016  0.567106   \n",
       "9                 GBM_4_AutoML_20190421_184623  0.735541  0.539759   \n",
       "10  GBM_grid_1_AutoML_20190421_184623_model_14  0.732612  0.570291   \n",
       "11   GBM_grid_1_AutoML_20190421_184623_model_6  0.732331  0.569009   \n",
       "12  GBM_grid_1_AutoML_20190421_184623_model_22  0.731367  0.522957   \n",
       "13   GBM_grid_1_AutoML_20190421_184623_model_7  0.730971  0.529515   \n",
       "14   GBM_grid_1_AutoML_20190421_184623_model_2  0.730150  0.573667   \n",
       "15                GBM_2_AutoML_20190421_184623  0.729416  0.538834   \n",
       "16   GBM_grid_1_AutoML_20190421_184623_model_1  0.729301  0.565119   \n",
       "17                GBM_3_AutoML_20190421_184623  0.729207  0.541731   \n",
       "18                DRF_1_AutoML_20190421_184623  0.728596  0.590811   \n",
       "19   GBM_grid_1_AutoML_20190421_184623_model_9  0.728193  0.565726   \n",
       "20  GBM_grid_1_AutoML_20190421_184623_model_21  0.723443  0.532705   \n",
       "21   GBM_grid_1_AutoML_20190421_184623_model_4  0.720600  0.584400   \n",
       "22  GBM_grid_1_AutoML_20190421_184623_model_12  0.710070  0.953987   \n",
       "23  GBM_grid_1_AutoML_20190421_184623_model_11  0.696640  0.776455   \n",
       "24   GBM_grid_1_AutoML_20190421_184623_model_8  0.688803  0.587878   \n",
       "25  GBM_grid_1_AutoML_20190421_184623_model_15  0.676625  0.579023   \n",
       "26  GBM_grid_1_AutoML_20190421_184623_model_20  0.660482  0.595093   \n",
       "27  GBM_grid_1_AutoML_20190421_184623_model_18  0.660021  0.595023   \n",
       "28  GBM_grid_1_AutoML_20190421_184623_model_16  0.655322  0.595157   \n",
       "29   GBM_grid_1_AutoML_20190421_184623_model_5  0.613758  0.596316   \n",
       "\n",
       "    mean_per_class_error      rmse       mse  \n",
       "0               0.282106  0.417282  0.174124  \n",
       "1               0.287526  0.416346  0.173344  \n",
       "2               0.295349  0.420088  0.176474  \n",
       "3               0.295500  0.413658  0.171113  \n",
       "4               0.291787  0.416341  0.173340  \n",
       "5               0.300200  0.419934  0.176345  \n",
       "6               0.306606  0.436159  0.190235  \n",
       "7               0.302582  0.426277  0.181712  \n",
       "8               0.294716  0.437618  0.191510  \n",
       "9               0.292881  0.430512  0.185340  \n",
       "10              0.303698  0.439193  0.192891  \n",
       "11              0.301272  0.438587  0.192359  \n",
       "12              0.305663  0.422386  0.178410  \n",
       "13              0.304921  0.426838  0.182190  \n",
       "14              0.314407  0.439074  0.192786  \n",
       "15              0.311082  0.430388  0.185233  \n",
       "16              0.302626  0.436836  0.190826  \n",
       "17              0.315192  0.430133  0.185015  \n",
       "18              0.318884  0.431486  0.186180  \n",
       "19              0.309053  0.437025  0.190991  \n",
       "20              0.316984  0.426213  0.181658  \n",
       "21              0.313313  0.445523  0.198490  \n",
       "22              0.334818  0.486709  0.236886  \n",
       "23              0.343491  0.481070  0.231429  \n",
       "24              0.317617  0.447126  0.199921  \n",
       "25              0.331234  0.443178  0.196407  \n",
       "26              0.374849  0.450364  0.202827  \n",
       "27              0.381513  0.450334  0.202801  \n",
       "28              0.351840  0.450395  0.202855  \n",
       "29              0.383284  0.450917  0.203326  "
      ]
     },
     "execution_count": 64,
     "metadata": {},
     "output_type": "execute_result"
    }
   ],
   "source": [
    "aml5_leaderboard_df=aml5.leaderboard.as_data_frame()\n",
    "aml5_leaderboard_df"
   ]
  },
  {
   "cell_type": "code",
   "execution_count": 65,
   "metadata": {},
   "outputs": [],
   "source": [
    "length = len(aml5_leaderboard_df)\n",
    "length\n",
    "meta_data[\"models_generated\"] = length"
   ]
  },
  {
   "cell_type": "markdown",
   "metadata": {},
   "source": [
    "storing the leaderboard into a csv file"
   ]
  },
  {
   "cell_type": "code",
   "execution_count": 66,
   "metadata": {},
   "outputs": [],
   "source": [
    "# save leaderboard\n",
    "leaderboard_stats=run_id+ '1200sec'+ '_leaderboard.csv'\n",
    "aml5_leaderboard_df.to_csv(leaderboard_stats)"
   ]
  },
  {
   "cell_type": "code",
   "execution_count": 67,
   "metadata": {},
   "outputs": [
    {
     "data": {
      "text/plain": [
       "0                   GBM_1_AutoML_20190421_184623\n",
       "1      GBM_grid_1_AutoML_20190421_184623_model_3\n",
       "2     GBM_grid_1_AutoML_20190421_184623_model_17\n",
       "3      GLM_grid_1_AutoML_20190421_184623_model_1\n",
       "4                   GBM_5_AutoML_20190421_184623\n",
       "5     GBM_grid_1_AutoML_20190421_184623_model_10\n",
       "6     GBM_grid_1_AutoML_20190421_184623_model_19\n",
       "7                   XRT_1_AutoML_20190421_184623\n",
       "8     GBM_grid_1_AutoML_20190421_184623_model_13\n",
       "9                   GBM_4_AutoML_20190421_184623\n",
       "10    GBM_grid_1_AutoML_20190421_184623_model_14\n",
       "11     GBM_grid_1_AutoML_20190421_184623_model_6\n",
       "12    GBM_grid_1_AutoML_20190421_184623_model_22\n",
       "13     GBM_grid_1_AutoML_20190421_184623_model_7\n",
       "14     GBM_grid_1_AutoML_20190421_184623_model_2\n",
       "15                  GBM_2_AutoML_20190421_184623\n",
       "16     GBM_grid_1_AutoML_20190421_184623_model_1\n",
       "17                  GBM_3_AutoML_20190421_184623\n",
       "18                  DRF_1_AutoML_20190421_184623\n",
       "19     GBM_grid_1_AutoML_20190421_184623_model_9\n",
       "20    GBM_grid_1_AutoML_20190421_184623_model_21\n",
       "21     GBM_grid_1_AutoML_20190421_184623_model_4\n",
       "22    GBM_grid_1_AutoML_20190421_184623_model_12\n",
       "23    GBM_grid_1_AutoML_20190421_184623_model_11\n",
       "24     GBM_grid_1_AutoML_20190421_184623_model_8\n",
       "25    GBM_grid_1_AutoML_20190421_184623_model_15\n",
       "26    GBM_grid_1_AutoML_20190421_184623_model_20\n",
       "27    GBM_grid_1_AutoML_20190421_184623_model_18\n",
       "28    GBM_grid_1_AutoML_20190421_184623_model_16\n",
       "29     GBM_grid_1_AutoML_20190421_184623_model_5\n",
       "Name: model_id, dtype: object"
      ]
     },
     "execution_count": 67,
     "metadata": {},
     "output_type": "execute_result"
    }
   ],
   "source": [
    "aml5_leaderboard_df=aml5.leaderboard.as_data_frame()\n",
    "model5_set=aml5_leaderboard_df['model_id']\n",
    "model5_set"
   ]
  },
  {
   "cell_type": "markdown",
   "metadata": {},
   "source": [
    "getting the best parameters and storing them in a json file"
   ]
  },
  {
   "cell_type": "code",
   "execution_count": 68,
   "metadata": {},
   "outputs": [],
   "source": [
    "count = 0;\n",
    "for i in model5_set:\n",
    "    count = count+1;\n",
    "for i in range(0,count):\n",
    "    mod_best=h2o.get_model(model5_set[i])\n",
    "    parameters = mod_best.params\n",
    "    n= str((model5_set[i]))+'__1200'\n",
    "    dict_to_json(parameters,n)"
   ]
  },
  {
   "cell_type": "code",
   "execution_count": 69,
   "metadata": {},
   "outputs": [],
   "source": [
    "# Update and save meta data\n",
    "n=run_id+'_meta_data.json'\n",
    "dict_to_json(meta_data,n)"
   ]
  },
  {
   "cell_type": "code",
   "execution_count": 70,
   "metadata": {},
   "outputs": [
    {
     "data": {
      "text/plain": [
       "{'start_time': 1555886773.8907285,\n",
       " 'target': 'Dataset',\n",
       " 'server_path': 'C:\\\\Users\\\\Manvi\\\\Anaconda3\\\\indian-liver-patient-records\\\\uh5qmPqcn',\n",
       " 'data_path': None,\n",
       " 'test_path': None,\n",
       " 'max_models': None,\n",
       " 'run_time': 1200,\n",
       " 'run_id': 'RHNRdOUmX',\n",
       " 'scale': False,\n",
       " 'classification': True,\n",
       " 'model_path': None,\n",
       " 'balance': False,\n",
       " 'balance_threshold': 0.2,\n",
       " 'project': None,\n",
       " 'end_time': 1555886798.8437598,\n",
       " 'execution_time': 24.953031301498413,\n",
       " 'run_path': 'C:\\\\Users\\\\Manvi\\\\Anaconda3\\\\indian-liver-patient-records\\\\uh5qmPqcn\\\\RHNRdOUmX',\n",
       " 'nthreads': 1,\n",
       " 'min_mem_size': 1,\n",
       " 'analysis': 0,\n",
       " 'X': ['Age',\n",
       "  'Gender',\n",
       "  'Total_Bilirubin',\n",
       "  'Direct_Bilirubin',\n",
       "  'Alkaline_Phosphotase',\n",
       "  'Alamine_Aminotransferase',\n",
       "  'Aspartate_Aminotransferase',\n",
       "  'Total_Protiens',\n",
       "  'Albumin',\n",
       "  'Albumin_and_Globulin_Ratio'],\n",
       " 'models_generated': 30}"
      ]
     },
     "execution_count": 70,
     "metadata": {},
     "output_type": "execute_result"
    }
   ],
   "source": [
    "meta_data"
   ]
  },
  {
   "cell_type": "markdown",
   "metadata": {},
   "source": [
    "# Conclusion"
   ]
  },
  {
   "cell_type": "markdown",
   "metadata": {},
   "source": [
    "1.Models have been generated through H2OAutoML for runtime of 1200secs.\n",
    "\n",
    "2.A leaderboard is obtained listing the best models.\n",
    "\n",
    "3.Best models are choosen based on metrics like rmse,mse,auc,logloss.\n",
    "\n",
    "4.Model generated through GBM is considered to be the best"
   ]
  },
  {
   "cell_type": "markdown",
   "metadata": {},
   "source": [
    "# Contribution"
   ]
  },
  {
   "cell_type": "markdown",
   "metadata": {},
   "source": [
    "selected a dataset and performed H2O algorithm to generate a leaderboard of best models"
   ]
  },
  {
   "cell_type": "markdown",
   "metadata": {},
   "source": [
    "# Citations"
   ]
  },
  {
   "cell_type": "markdown",
   "metadata": {},
   "source": [
    "https://github.com/prabhuSub/Hyperparamter-Samples\n",
    "\n",
    "https://machinelearningmastery.com/vector-norms-machine-learning/\n",
    "\n",
    "http://docs.h2o.ai/h2o/latest-stable/h2o-docs/grid-search.html?highlight=hyperparameters#supported-grid-search-hyperparameters\n"
   ]
  },
  {
   "cell_type": "markdown",
   "metadata": {},
   "source": [
    "# License"
   ]
  },
  {
   "cell_type": "markdown",
   "metadata": {},
   "source": [
    "Copyright 2019 Manogjna Potluri \n",
    "\n",
    "Copyright 2019 Manvitha Jagadam\n",
    "\n",
    "\n",
    "Permission is hereby granted, free of charge, to any person obtaining a copy of this software and associated documentation files (the \"Software\"), to deal in the Software without restriction, including without limitation the rights to use, copy, modify, merge, publish, distribute, sublicense, and/or sell copies of the Software, and to permit persons to whom the Software is furnished to do so, subject to the following conditions:\n",
    "\n",
    "The above copyright notice and this permission notice shall be included in all copies or substantial portions of the Software.\n",
    "\n",
    "THE SOFTWARE IS PROVIDED \"AS IS\", WITHOUT WARRANTY OF ANY KIND, EXPRESS OR IMPLIED, INCLUDING BUT NOT LIMITED TO THE WARRANTIES OF MERCHANTABILITY, FITNESS FOR A PARTICULAR PURPOSE AND NONINFRINGEMENT. IN NO EVENT SHALL THE AUTHORS OR COPYRIGHT HOLDERS BE LIABLE FOR ANY CLAIM, DAMAGES OR OTHER LIABILITY, WHETHER IN AN ACTION OF CONTRACT, TORT OR OTHERWISE, ARISING FROM, OUT OF OR IN CONNECTION WITH THE SOFTWARE OR THE USE OR OTHER DEALINGS IN THE SOFTWARE.\n"
   ]
  },
  {
   "cell_type": "code",
   "execution_count": null,
   "metadata": {},
   "outputs": [],
   "source": []
  }
 ],
 "metadata": {
  "kernelspec": {
   "display_name": "Python 3",
   "language": "python",
   "name": "python3"
  },
  "language_info": {
   "codemirror_mode": {
    "name": "ipython",
    "version": 3
   },
   "file_extension": ".py",
   "mimetype": "text/x-python",
   "name": "python",
   "nbconvert_exporter": "python",
   "pygments_lexer": "ipython3",
   "version": "3.6.7"
  }
 },
 "nbformat": 4,
 "nbformat_minor": 2
}
